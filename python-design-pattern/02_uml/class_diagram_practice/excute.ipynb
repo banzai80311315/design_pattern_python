{
 "cells": [
  {
   "cell_type": "markdown",
   "id": "e7c9da2f",
   "metadata": {},
   "source": [
    "# テストでインスタンス化"
   ]
  },
  {
   "cell_type": "code",
   "execution_count": 1,
   "id": "ff337fdc",
   "metadata": {},
   "outputs": [],
   "source": [
    "import practice1 as emp"
   ]
  },
  {
   "cell_type": "code",
   "execution_count": 2,
   "id": "db77c6c8",
   "metadata": {},
   "outputs": [],
   "source": [
    "ban = emp.Employee(1 , \"ban\" , 1)"
   ]
  },
  {
   "cell_type": "code",
   "execution_count": 3,
   "id": "e946ad11",
   "metadata": {},
   "outputs": [
    {
     "name": "stdout",
     "output_type": "stream",
     "text": [
      "働きます\n"
     ]
    }
   ],
   "source": [
    "ban._work()"
   ]
  },
  {
   "cell_type": "code",
   "execution_count": 4,
   "id": "ddbf627b",
   "metadata": {},
   "outputs": [
    {
     "data": {
      "text/plain": [
       "1"
      ]
     },
     "execution_count": 4,
     "metadata": {},
     "output_type": "execute_result"
    }
   ],
   "source": [
    "ban.getSalary()"
   ]
  },
  {
   "cell_type": "code",
   "execution_count": 5,
   "id": "4e22f768",
   "metadata": {},
   "outputs": [],
   "source": [
    "import practice2 as pra"
   ]
  },
  {
   "cell_type": "code",
   "execution_count": 6,
   "id": "476c8b52",
   "metadata": {},
   "outputs": [
    {
     "data": {
      "text/plain": [
       "practice2.Rectangle"
      ]
     },
     "execution_count": 6,
     "metadata": {},
     "output_type": "execute_result"
    }
   ],
   "source": [
    "rec = pra.Rectangle(4 , 2)\n",
    "type(rec)"
   ]
  },
  {
   "cell_type": "code",
   "execution_count": 7,
   "id": "a54a02fc",
   "metadata": {},
   "outputs": [],
   "source": [
    "client1 = pra.Client(rec)"
   ]
  },
  {
   "cell_type": "code",
   "execution_count": 9,
   "id": "62f024bf",
   "metadata": {},
   "outputs": [],
   "source": [
    "client2 = pra.Client(pra.Rectangle(5 , 6))"
   ]
  },
  {
   "cell_type": "code",
   "execution_count": 12,
   "id": "a6066469",
   "metadata": {},
   "outputs": [
    {
     "name": "stdout",
     "output_type": "stream",
     "text": [
      "30\n"
     ]
    }
   ],
   "source": [
    "print(client2.getShape().calc_area())"
   ]
  }
 ],
 "metadata": {
  "kernelspec": {
   "display_name": "Python 3 (ipykernel)",
   "language": "python",
   "name": "python3"
  },
  "language_info": {
   "codemirror_mode": {
    "name": "ipython",
    "version": 3
   },
   "file_extension": ".py",
   "mimetype": "text/x-python",
   "name": "python",
   "nbconvert_exporter": "python",
   "pygments_lexer": "ipython3",
   "version": "3.9.12"
  }
 },
 "nbformat": 4,
 "nbformat_minor": 5
}
